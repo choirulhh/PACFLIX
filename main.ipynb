{
 "cells": [
  {
   "cell_type": "code",
   "execution_count": 19,
   "metadata": {},
   "outputs": [],
   "source": [
    "from user import User"
   ]
  },
  {
   "cell_type": "code",
   "execution_count": 20,
   "metadata": {},
   "outputs": [],
   "source": [
    "#objek\n",
    "user1 = User(\"Rosy\")\n",
    "user2 = User(\"Ana\")"
   ]
  },
  {
   "cell_type": "code",
   "execution_count": 21,
   "metadata": {},
   "outputs": [
    {
     "name": "stdout",
     "output_type": "stream",
     "text": [
      "Basic Plan Rosy 12\n",
      "None Ana None\n"
     ]
    }
   ],
   "source": [
    "#ingin menampilkan username, current plan, duration plan pada objek \n",
    "print(user1.current_plan, user1.username, user1.duration_plan)\n",
    "print(user2.current_plan, user2.username, user2.duration_plan)"
   ]
  },
  {
   "cell_type": "code",
   "execution_count": 26,
   "metadata": {},
   "outputs": [
    {
     "name": "stdout",
     "output_type": "stream",
     "text": [
      "List Benefit and Plan From Pacflix\n",
      "....\n",
      "Basic Plan            Standard Plan                Premium Plan                                          Services\n",
      "--------------------  ---------------------------  ----------------------------------------------------  -----------------\n",
      "True                  True                         True                                                  Bisa Stream\n",
      "True                  True                         True                                                  Bisa Download\n",
      "True                  True                         True                                                  Kualitas SD\n",
      "False                 True                         True                                                  Kualitas HD\n",
      "False                 False                        True                                                  Kualitas UHD\n",
      "1                     2                            4                                                     Number of Devices\n",
      "3rd party Movie only  Basic Plan Content + Sports  Basic Plan + Standard Plan + PacFlix Original Series  Jenis Konten\n",
      "120000                160000                       200000                                                Harga\n"
     ]
    }
   ],
   "source": [
    "#untuk menampilkan semua plan dan benefitnya\n",
    "user1.check_all_plan()"
   ]
  },
  {
   "cell_type": "code",
   "execution_count": 25,
   "metadata": {},
   "outputs": [
    {
     "name": "stdout",
     "output_type": "stream",
     "text": [
      "Rosy sedang berlangganan Basic Plan\n",
      "Benefit\n",
      "Basic Plan            Services\n",
      "--------------------  -----------------\n",
      "True                  Bisa Stream\n",
      "True                  Bisa Download\n",
      "True                  Kualitas SD\n",
      "False                 Kualitas HD\n",
      "False                 Kualitas UHD\n",
      "1                     Number of Devices\n",
      "3rd party Movie only  Jenis Konten\n",
      "120000                Harga\n",
      "........\n",
      "........\n",
      "Anda belum berlangganan\n"
     ]
    }
   ],
   "source": [
    "#cek user current dan benefitnya\n",
    "user1.check_user_plan()\n",
    "print(\"........\")\n",
    "print(\"........\")\n",
    "user2.check_user_plan()"
   ]
  },
  {
   "cell_type": "code",
   "execution_count": 24,
   "metadata": {},
   "outputs": [
    {
     "ename": "AttributeError",
     "evalue": "'User' object has no attribute 'upgrade_plan'",
     "output_type": "error",
     "traceback": [
      "\u001b[1;31m---------------------------------------------------------------------------\u001b[0m",
      "\u001b[1;31mAttributeError\u001b[0m                            Traceback (most recent call last)",
      "Cell \u001b[1;32mIn[24], line 1\u001b[0m\n\u001b[1;32m----> 1\u001b[0m user1\u001b[38;5;241m.\u001b[39mupgrade_plan()\n",
      "\u001b[1;31mAttributeError\u001b[0m: 'User' object has no attribute 'upgrade_plan'"
     ]
    }
   ],
   "source": [
    "user1.upgrade_plan()"
   ]
  }
 ],
 "metadata": {
  "kernelspec": {
   "display_name": "base",
   "language": "python",
   "name": "python3"
  },
  "language_info": {
   "codemirror_mode": {
    "name": "ipython",
    "version": 3
   },
   "file_extension": ".py",
   "mimetype": "text/x-python",
   "name": "python",
   "nbconvert_exporter": "python",
   "pygments_lexer": "ipython3",
   "version": "3.12.4"
  }
 },
 "nbformat": 4,
 "nbformat_minor": 2
}
